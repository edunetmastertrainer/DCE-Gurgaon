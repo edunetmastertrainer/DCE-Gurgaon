{
 "cells": [
  {
   "cell_type": "code",
   "execution_count": 12,
   "id": "8b1a2492-d3e5-4b72-91a2-bcdfd5974816",
   "metadata": {},
   "outputs": [],
   "source": [
    "from abc import ABC,abstractmethod\n",
    "#Abstract Class\n",
    "class bank(ABC):\n",
    "    @abstractmethod\n",
    "    def varifyId(self):\n",
    "        pass\n",
    "    @abstractmethod\n",
    "    def verifyAdd(self):\n",
    "        pass\n",
    "    def display(self):\n",
    "        print(\"I am concrete method\")\n",
    "\n",
    "class gurgaonBranch(bank):\n",
    "    def varifyId(self,a):\n",
    "        print(\"Submit Addhar Card\")\n",
    "    def verifyAdd(self):\n",
    "        print(\"Submit Electriccity Bill\")\n",
    "    pass\n",
    "b1 = gurgaonBranch()"
   ]
  },
  {
   "cell_type": "code",
   "execution_count": 18,
   "id": "eb498c37-46f1-424c-8685-6a004f2bbc9e",
   "metadata": {},
   "outputs": [],
   "source": [
    "class bank(ABC):\n",
    "    def display(self):\n",
    "        print(\"I am concrete method\")\n",
    "b = bank()"
   ]
  },
  {
   "cell_type": "code",
   "execution_count": 22,
   "id": "1a5cdb35-c062-45a8-9f47-265de7d93ab3",
   "metadata": {},
   "outputs": [
    {
     "name": "stdout",
     "output_type": "stream",
     "text": [
      "area = 78.5 and Per = 31.400000000000002\n",
      "area = 28.26 and Per = 18.84\n"
     ]
    }
   ],
   "source": [
    "# Create a abstract class shape with two abstract method area and per\n",
    "from abc import ABC,abstractmethod\n",
    "class shape(ABC):\n",
    "    @abstractmethod\n",
    "    def area(self):\n",
    "        pass\n",
    "    @abstractmethod\n",
    "    def per(self):\n",
    "        pass\n",
    "    def display(self):\n",
    "        print(\"area = {} and Per = {}\".format(self.area(),self.per()))\n",
    "class circle(shape):\n",
    "    def __init__(self,radius):\n",
    "        self.radius = radius\n",
    "    def area(self):\n",
    "        return 3.14 * self.radius**2\n",
    "    def per(self):\n",
    "        return 2*3.14*self.radius\n",
    "c1 = circle(5)\n",
    "c2 = circle(3)\n",
    "c1.display()\n",
    "c2.display()"
   ]
  },
  {
   "cell_type": "code",
   "execution_count": 38,
   "id": "d4cd5fcf-bb66-4d2a-ba9b-20a786aaac94",
   "metadata": {},
   "outputs": [
    {
     "data": {
      "text/plain": [
       "'Ram'"
      ]
     },
     "execution_count": 38,
     "metadata": {},
     "output_type": "execute_result"
    }
   ],
   "source": [
    "class student:\n",
    "    def __init__(self):\n",
    "        self.__id = 10\n",
    "        self._name = \"Ram\"\n",
    "\n",
    "s1 = student()\n",
    "s1._name"
   ]
  },
  {
   "cell_type": "code",
   "execution_count": 56,
   "id": "7b0885d7-92e6-41ae-8d2e-1e8b0eb9a238",
   "metadata": {},
   "outputs": [
    {
     "name": "stdout",
     "output_type": "stream",
     "text": [
      "AccountNo\tName\tLocation\tBalance\n",
      "2002\t\tRam\t\tDelhi\t\t2000\n",
      "2003\t\tSita\t\tNoida\t\t1000\n",
      "Date\t\tType\tAmount\n",
      "2025-02-14 11:46:45.251349\tWithdrawl\t1000\n",
      "2025-02-14 11:46:45.251349\tDeposit\t1000\n",
      "2025-02-14 11:46:45.251349\tDeposit\t10000\n",
      "2025-02-14 11:46:45.251349\tWithdrawl\t1000\n"
     ]
    }
   ],
   "source": [
    "import datetime\n",
    "class customer:\n",
    "    def __init__(self,accountNo,cName,cBal,cAddress):\n",
    "        self.accountNo=accountNo\n",
    "        self.cName = cName\n",
    "        self.__cBal = cBal\n",
    "        self.cAddress = cAddress\n",
    "        self.trans = []\n",
    "    def display(self):\n",
    "        print(\"{}\\t\\t{}\\t\\t{}\\t\\t{}\".format(self.accountNo,self.cName,self.cAddress,self.__cBal))\n",
    "    def getBal(self):\n",
    "        return __cBal\n",
    "    def deposit(self,amount):\n",
    "        self.__cBal +=amount\n",
    "        self.trans.append((datetime.datetime.now(),\"Deposit\",amount))\n",
    "    def withdrawl(self,amount):\n",
    "        if self.__cBal-amount<1000:\n",
    "            print(\"Not sufficent Balance to withdrawl\")\n",
    "        else:\n",
    "            self.__cBal-=amount\n",
    "            self.trans.append((datetime.datetime.now(),\"Withdrawl\",amount))\n",
    "    def seeTrans(self):\n",
    "        print(\"Date\\t\\tType\\tAmount\")\n",
    "        for val in self.trans:\n",
    "            print(\"{}\\t{}\\t{}\".format(val[0],val[1],val[2]))\n",
    "    \n",
    "class bank:\n",
    "    def __init__(self):\n",
    "        self.accountHolder = {}\n",
    "        self.accountNo = 2001\n",
    "    def createAccount(self,name,bal,address):\n",
    "        self.accountNo = self.accountNo + 1\n",
    "        if bal < 1000:\n",
    "            print(\"You can't open account with less than 1000\")\n",
    "        else:\n",
    "           self.accountHolder[self.accountNo] = customer(self.accountNo,name,bal,address)\n",
    "    def displayAllCustomer(self):\n",
    "        print(\"AccountNo\\tName\\tLocation\\tBalance\")\n",
    "        for k,v in self.accountHolder.items():\n",
    "            v.display()\n",
    "    def getcusomer(self,accno):\n",
    "        return self.accountHolder.get(accno)\n",
    "\n",
    "b = bank()\n",
    "b.createAccount(\"Ram\",2000,\"Delhi\")\n",
    "b.createAccount(\"Sita\",1000,\"Noida\")\n",
    "b.displayAllCustomer()\n",
    "b.getcusomer(2002).withdrawl(1000)\n",
    "b.getcusomer(2002).deposit(1000)\n",
    "b.getcusomer(2002).deposit(10000)\n",
    "b.getcusomer(2002).withdrawl(1000)\n",
    "b.getcusomer(2002).seeTrans()\n"
   ]
  },
  {
   "cell_type": "code",
   "execution_count": 50,
   "id": "b8e0acee-4cea-4308-b1a3-3155bda0ddf6",
   "metadata": {},
   "outputs": [
    {
     "name": "stdout",
     "output_type": "stream",
     "text": [
      "2025-02-14 11:38:27.220485\n"
     ]
    }
   ],
   "source": [
    "import datetime\n",
    "\n",
    "x = datetime.datetime.now()\n",
    "print(x)\n"
   ]
  },
  {
   "cell_type": "code",
   "execution_count": null,
   "id": "8098cd5e-131e-4635-ad04-8fdec73e70d1",
   "metadata": {},
   "outputs": [],
   "source": []
  }
 ],
 "metadata": {
  "kernelspec": {
   "display_name": "Python 3 (ipykernel)",
   "language": "python",
   "name": "python3"
  },
  "language_info": {
   "codemirror_mode": {
    "name": "ipython",
    "version": 3
   },
   "file_extension": ".py",
   "mimetype": "text/x-python",
   "name": "python",
   "nbconvert_exporter": "python",
   "pygments_lexer": "ipython3",
   "version": "3.12.7"
  }
 },
 "nbformat": 4,
 "nbformat_minor": 5
}
